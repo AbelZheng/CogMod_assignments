{
 "cells": [
  {
   "cell_type": "code",
   "execution_count": 2,
   "metadata": {},
   "outputs": [],
   "source": [
    "# initiation: 2020-02-10T15:00:00+01:00\n",
    "import numpy as np\n",
    "import matplotlib.pyplot as plt\n",
    "import pandas as pd\n",
    "from scipy import stats, optimize\n",
    "import seaborn as sns\n",
    "import constrNMPy\n",
    "import os\n",
    "\n",
    "plt.rcParams['font.sans-serif'] = ['Times New Roman'] # set the font inline to Times New Roman"
   ]
  },
  {
   "cell_type": "markdown",
   "metadata": {},
   "source": [
    "## 题目二"
   ]
  },
  {
   "cell_type": "markdown",
   "metadata": {},
   "source": [
    "在一个心理物理学实验中，主试向被试呈现不同强度的刺激，被试需要在他们认为有刺激出现的试次做出反应，对于不同的刺激强度$I$，被试反应的概率为($c_t=1$表示做出反应，$c_t=0$表示不反应)\n",
    "$$P(c_t=1|I)=p_g+\\frac{1-p_l-p_g}{1+exp(b(a-I))}$$"
   ]
  },
  {
   "cell_type": "markdown",
   "metadata": {},
   "source": [
    "### Q1\n",
    "    \n",
    "假设模型参数取值为$p_g=0.2, p_l=0.2, b=0.2, a=20$,请画出被试反应概率随刺激强度变化的曲线($I\\in[0,50]$)。然后随机生成150个试次的实验，每个试次的刺激强度独立，服从[0,50]上的均匀分布，并根据模型生成被试在实验中的反应。请在代码中指定随机种子为你的学号。"
   ]
  },
  {
   "cell_type": "markdown",
   "metadata": {},
   "source": [
    "your answer here"
   ]
  },
  {
   "cell_type": "code",
   "execution_count": 1,
   "metadata": {},
   "outputs": [],
   "source": [
    "def Weibull(I, a, b, pg, pl):\n",
    "    \"\"\"\n",
    "    Compute the value of the psychometric curve based on the fomula given parameters and stimulus intensity.\n",
    "    \n",
    "    Inputs:\n",
    "        I (float): Stimulus intensity.\n",
    "        a (float): Bias parameter.\n",
    "        b (float): Slope parameter.\n",
    "        pg (float): Guess rate.\n",
    "        pl (float): Lapse rate.\n",
    "        \n",
    "    Returns:\n",
    "        float: The probability of detecting the stimulus (c_t=1) given the stimulus intensity I.\n",
    "    \"\"\"\n",
    "    return pg + (1 - pg - pl) / (1 + np.exp(b * (a - I)))"
   ]
  },
  {
   "cell_type": "code",
   "execution_count": 3,
   "metadata": {},
   "outputs": [
    {
     "data": {
      "image/png": "[encoded data removed]",
      "text/plain": [
       "<Figure size 432x288 with 1 Axes>"
      ]
     },
     "metadata": {
      "needs_background": "light"
     },
     "output_type": "display_data"
    }
   ],
   "source": [
    "model_params = [20, 0.2, 0.2, 0.2] # initial set of the parameters\n",
    "\n",
    "# 生成刺激强度I的取值范围\n",
    "I_range = np.linspace(0, 50, 500)\n",
    "\n",
    "# 计算心理物理曲线上每个点的取值\n",
    "P = Weibull(I_range,*model_params) # *model_params is equivalent to model_params[0], model_params[1], model_params[2], model_params[3]\n",
    "\n",
    "# 绘制心理物理曲线图\n",
    "plt.plot(I_range, P)\n",
    "plt.xlabel('Stimulus Intensity (I)')\n",
    "plt.ylabel('Probability of Correct Response')\n",
    "plt.title('Psychometric Curve')\n",
    "plt.show()\n"
   ]
  },
  {
   "cell_type": "code",
   "execution_count": 9,
   "metadata": {},
   "outputs": [
    {
     "name": "stdout",
     "output_type": "stream",
     "text": [
      "Stimulus Intensities: [26.81051618  5.6798309  10.86010338 11.00743082  2.63917993 16.48768821\n",
      " 42.91467942 12.31662097 36.9401964  41.67282793]\n",
      "Responses: [1. 0. 0. 0. 0. 0. 1. 0. 0. 1.]\n"
     ]
    },
    {
     "data": {
      "image/png": "[encoded data removed]",
      "text/plain": [
       "<Figure size 720x432 with 1 Axes>"
      ]
     },
     "metadata": {
      "needs_background": "light"
     },
     "output_type": "display_data"
    }
   ],
   "source": [
    "np.random.seed(2000017819)\n",
    "\n",
    "# 生成150个刺激强度值\n",
    "I_trials = np.random.uniform(low=0, high=50, size=150)\n",
    "\n",
    "# 生成150个试次的反应\n",
    "responses = np.zeros_like(I_trials)\n",
    "for i in range(len(I_trials)):\n",
    "    p_correct = Weibull(I_trials[i], *model_params)\n",
    "    if np.random.rand() < p_correct:\n",
    "        responses[i] = 1\n",
    "\n",
    "# 打印前10个试次的刺激强度和反应\n",
    "print('Stimulus Intensities:', I_trials[:10])\n",
    "print('Responses:', responses[:10])\n",
    "\n",
    "df = pd.DataFrame({'I': I_trials, 'c': responses})\n",
    "df.head()\n",
    "\n",
    "plt.figure(figsize=(10, 6))\n",
    "# scatter plot of the data\n",
    "plt.scatter(df['I'], df['c'], label='Data');"
   ]
  },
  {
   "attachments": {},
   "cell_type": "markdown",
   "metadata": {},
   "source": [
    "### Q2\n",
    "    \n",
    "请根据Q1中生成的实验数据，使用最大似然估计拟合模型参数，报告参数并画出拟合得到的模型反应概率随刺激强度变化的曲线，请注意参数的取值范围$p_g\\in[0,1],p_l\\in[0,1],b\\in[0,\\inf)$\n"
   ]
  },
  {
   "cell_type": "code",
   "execution_count": 5,
   "metadata": {},
   "outputs": [
    {
     "name": "stdout",
     "output_type": "stream",
     "text": [
      "Estimated parameters using MLE: [a, b, pg, pl] =  [22.70543553  2.33722679  0.19428481  0.25346246]\n"
     ]
    }
   ],
   "source": [
    "# the distribution of number of correct response for each stimulus intensity follows a Bernoulli distribution\n",
    "def nlog_likelihood(params, I, c):\n",
    "    \"\"\"\n",
    "    Compute the log likelihood of the data given the model parameters.\n",
    "    \n",
    "    Inputs:\n",
    "        params (list): The model parameters.\n",
    "        I (numpy.ndarray): The stimulus intensity.\n",
    "        c (numpy.ndarray): The response.\n",
    "        \n",
    "    Returns:\n",
    "        float: The log likelihood.\n",
    "    \"\"\"\n",
    "    a, b, pg, pl = params\n",
    "    Prob = Weibull(I, a, b, pg, pl)\n",
    "    Prob = np.clip(Prob, 0.01, 0.99) # clip the probability to avoid numerical error\n",
    "    log_likelihood = np.sum(c * np.log(Prob) + (1 - c) * np.log(1 - Prob)) # log likelihood of the data given the model parameters\n",
    "    return -log_likelihood\n",
    "\n",
    "# Estimate the model parameters using MLE\n",
    "from scipy.optimize import minimize\n",
    "model_params = [20, 0.2, 0.2, 0.2]\n",
    "model_params_est = minimize(nlog_likelihood, model_params, args=(I_trials, responses), method='Nelder-Mead', tol=1e-6).x\n",
    "\n",
    "\n",
    "print(\"Estimated parameters using MLE: [a, b, pg, pl] = \", model_params_est)"
   ]
  },
  {
   "cell_type": "code",
   "execution_count": 6,
   "metadata": {},
   "outputs": [
    {
     "data": {
      "text/plain": [
       "{'fopt': 80.86052614380756,\n",
       " 'iter': 112,\n",
       " 'funcalls': 193,\n",
       " 'warnflag': 0,\n",
       " 'xopt': array([22.70538727,  2.3372701 ,  0.1942727 ,  0.25346916]),\n",
       " 'allvecs': None}"
      ]
     },
     "execution_count": 6,
     "metadata": {},
     "output_type": "execute_result"
    }
   ],
   "source": [
    "args = (I_trials, responses)\n",
    "LB = [1e-4, 1e-4, 1e-4, 1e-4];\n",
    "UB = [1e2, 10, 1, 1];\n",
    "[a0] = np.random.uniform(1e-4, 30, 1); [b0, pg0, pl0] = np.random.uniform(1e-4, 1, 3);\n",
    "x0 = [a0, b0, pg0, pl0];\n",
    "\n",
    "xopt = constrNMPy.constrNM(nlog_likelihood, x0, LB, UB, args=args, full_output=True)\n",
    "xopt"
   ]
  },
  {
   "cell_type": "code",
   "execution_count": 7,
   "metadata": {},
   "outputs": [
    {
     "name": "stdout",
     "output_type": "stream",
     "text": [
      "MLE [a, b, pg, pl] = [22.70548422  2.33732982  0.19428511  0.25345957]\n",
      "time used:  0.2505638599395752  seconds\n"
     ]
    }
   ],
   "source": [
    "# Use multiple random starting points to increase the probability of finding the global minimum.\n",
    "import time\n",
    "start = time.time()\n",
    "\n",
    "N_random=10\n",
    "optimal=[]\n",
    "for i in range(N_random):\n",
    "    # print(\"\\r 进度：%.2f%%\" %(float(i/N_random*100)),end=' ')\n",
    "    [a0] = np.random.uniform(1e-4, 30, 1); [b0, pg0, pl0] = np.random.uniform(1e-4, 1, 3);\n",
    "    x0 = [a0, b0, pg0, pl0];\n",
    "    xopt = constrNMPy.constrNM(nlog_likelihood, x0, LB, UB, args=args, full_output=True)\n",
    "    optimal.append(xopt['xopt'])\n",
    "y = list(map(lambda params: nlog_likelihood(params, I_trials, responses), optimal)) # optional: use full output from constrNM\n",
    "opt = optimal[y.index(min(y))]\n",
    "print('MLE [a, b, pg, pl] = ' + str(opt))\n",
    "\n",
    "print('time used: ', str(time.time()-start), ' seconds')"
   ]
  },
  {
   "cell_type": "code",
   "execution_count": 10,
   "metadata": {},
   "outputs": [
    {
     "data": {
      "image/png": "[encoded data removed]",
      "text/plain": [
       "<Figure size 432x288 with 1 Axes>"
      ]
     },
     "metadata": {
      "needs_background": "light"
     },
     "output_type": "display_data"
    }
   ],
   "source": [
    "# 生成刺激强度I的取值范围\n",
    "I_range = np.linspace(0, 50, 500)\n",
    "\n",
    "# 计算心理物理曲线上每个点的取值\n",
    "P = Weibull(I_range,*opt) # *model_params is equivalent to model_params[0], model_params[1], model_params[2], model_params[3]\n",
    "\n",
    "# 绘制心理物理曲线图（对于拟合出来的模型）\n",
    "plt.plot(I_range, P)\n",
    "plt.xlabel('Stimulus Intensity (I)')\n",
    "plt.ylabel('Probability of Correct Response')\n",
    "plt.title('Psychometric Curve')\n",
    "plt.show()"
   ]
  },
  {
   "attachments": {},
   "cell_type": "markdown",
   "metadata": {},
   "source": [
    "### Q3\n",
    "    \n",
    "请根据Q1中生成的实验数据，使用nonparametric bootstrap估计参数的95%置信区间(采样400次)\n",
    " "
   ]
  },
  {
   "cell_type": "code",
   "execution_count": null,
   "metadata": {},
   "outputs": [],
   "source": [
    "res = []\n",
    "n_iterations = 40 # number of iterations\n",
    "N_random= 10 # number of random starting points\n",
    "for i in range(n_iterations):\n",
    "    # sampling from data\n",
    "    bootstrap_indices = np.random.choice(range(150), size=150, replace=True)\n",
    "    df_new = df.loc[bootstrap_indices]\n",
    "    [I_new,responce_new] =  [df_new['I'].values, df_new['c'].values]\n",
    "    args = (I_new, responce_new);\n",
    "    LB = [1e-4, 1e-4, 1e-4, 1e-4];\n",
    "    UB = [1e2, 10, 1, 1];\n",
    "    optimal=[]\n",
    "    for i in range(N_random):\n",
    "        # print(\"\\r 进度：%.2f%%\" %(float(i/N_random*100)),end=' ')\n",
    "        [a0] = np.random.uniform(1e-4, 30, 1); [b0, pg0, pl0] = np.random.uniform(1e-4, 1, 3);\n",
    "        x0 = [a0, b0, pg0, pl0];\n",
    "        xopt = constrNMPy.constrNM(nlog_likelihood, x0, LB, UB, args=args, full_output=True)\n",
    "        optimal.append(xopt['xopt'])\n",
    "    y = list(map(lambda params: nlog_likelihood(params, I_trials, responses), optimal)) # optional: use full output from constrNM\n",
    "    opt = optimal[y.index(min(y))]\n",
    "    res.append(optimal[y.index(min(y))])\n",
    "res = np.array(res)"
   ]
  },
  {
   "cell_type": "code",
   "execution_count": null,
   "metadata": {},
   "outputs": [],
   "source": [
    "# 绘制心理物理曲线图（对于拟合出来的模型）\n",
    "_, ax = plt.subplots(figsize=(6, 3))\n",
    "for i in range(len(res)):\n",
    "    P = Weibull(I_range,*res[i])\n",
    "    ax.plot(I_range, P, color='gray', alpha=0.2)\n",
    "    \n",
    "ax.plot(I_range,Weibull(I_range,*model_params_est) , lw=3)\n",
    "\n",
    "ax.spines['right'].set_visible(False)\n",
    "ax.spines['top'].set_visible(False)\n",
    "ax.set_xlabel('Intensity I')\n",
    "ax.set_ylabel('Probability Correct [ P(C) ]')\n",
    "ax.set_title('Bootstrapping results')"
   ]
  },
  {
   "cell_type": "code",
   "execution_count": null,
   "metadata": {},
   "outputs": [],
   "source": [
    "# the distribution of the parameters\n",
    "_, ax = plt.subplots(2,2,figsize=(9, 6))\n",
    "sns.histplot(res[:, 0], stat=\"probability\", element=\"step\", color='k', alpha=0.5, label=r'a', ax=ax[0, 0])\n",
    "ax[0, 0].set_xlabel(r'a')\n",
    "sns.histplot(res[:, 1], stat=\"probability\", element=\"step\", color='k', alpha=0.5, label=r'b', ax=ax[0, 1])\n",
    "ax[0, 1].set_xlabel(r'b')\n",
    "sns.histplot(res[:, 2], stat=\"probability\", element=\"step\", color='k', alpha=0.5, label=r'pl', ax=ax[1, 0])\n",
    "ax[1, 0].set_xlabel(r'pl')\n",
    "sns.histplot(res[:, 3], stat=\"probability\", element=\"step\", color='k', alpha=0.5, label=r'pg', ax=ax[1, 1])\n",
    "ax[1, 1].set_xlabel(r'pg')\n",
    "for each in ax.ravel():\n",
    "    each.spines['right'].set_visible(False)\n",
    "    each.spines['top'].set_visible(False)\n",
    "    each.set_title('Bootstrapping results')\n",
    "    each.legend(fontsize='small', shadow=False, frameon=False)\n"
   ]
  },
  {
   "attachments": {},
   "cell_type": "markdown",
   "metadata": {},
   "source": [
    "95% CI"
   ]
  },
  {
   "cell_type": "code",
   "execution_count": null,
   "metadata": {},
   "outputs": [],
   "source": [
    "alpha=95\n",
    "print('Non-parametric bootstrapping 95%CI:')\n",
    "print('a:', np.percentile(res[:, 0], (100-alpha)/2), np.percentile(res[:, 0], 100-(100-alpha)/2))\n",
    "print('b:', np.percentile(res[:, 1], (100-alpha)/2), np.percentile(res[:, 1], 100-(100-alpha)/2))\n",
    "print('pl:', np.percentile(res[:, 1], (100-alpha)/2), np.percentile(res[:, 2], 100-(100-alpha)/2))\n",
    "print('pg:', np.percentile(res[:, 1], (100-alpha)/2), np.percentile(res[:, 3], 100-(100-alpha)/2))"
   ]
  },
  {
   "attachments": {},
   "cell_type": "markdown",
   "metadata": {},
   "source": [
    "# Parametric bootstrapping"
   ]
  },
  {
   "cell_type": "code",
   "execution_count": null,
   "metadata": {},
   "outputs": [],
   "source": [
    "respb = [] # store the results\n",
    "n_iterations = 40 # number of iterations\n",
    "N_random= 10 # number of random starting points\n",
    "LB = [1e-4, 1e-4, 1e-4, 1e-4];\n",
    "UB = [1e2, 10, 1, 1];\n",
    "\n",
    "for i in range(n_iterations):\n",
    "    \n",
    "    # sampling from the model\n",
    "    # 生成150个刺激强度值\n",
    "    I_new = np.random.uniform(low=0, high=50, size=150)\n",
    "    # 生成150个试次的反应\n",
    "    response_new = np.zeros_like(I_new)\n",
    "    for i in range(len(I_new)):\n",
    "        p_correct = Weibull(I_new[i], *model_params_est)\n",
    "        if np.random.rand() < p_correct:\n",
    "            response_new[i] = 1\n",
    "            \n",
    "    args = (I_new, response_new);\n",
    "\n",
    "    optimal=[]\n",
    "    for i in range(N_random):\n",
    "        # print(\"\\r 进度：%.2f%%\" %(float(i/N_random*100)),end=' ')\n",
    "        [a0] = np.random.uniform(1e-4, 30, 1); [b0, pg0, pl0] = np.random.uniform(1e-4, 1, 3);\n",
    "        x0 = [a0, b0, pg0, pl0];\n",
    "        xopt = constrNMPy.constrNM(nlog_likelihood, x0, LB, UB, args=args, full_output=True)\n",
    "        optimal.append(xopt['xopt'])\n",
    "    y = list(map(lambda params: nlog_likelihood(params, I_trials, responses), optimal)) # optional: use full output from constrNM\n",
    "    opt = optimal[y.index(min(y))]\n",
    "    respb.append(optimal[y.index(min(y))])\n",
    "respb = np.array(respb)"
   ]
  },
  {
   "cell_type": "code",
   "execution_count": null,
   "metadata": {},
   "outputs": [],
   "source": [
    "# 绘制心理物理曲线图（对于拟合出来的模型）\n",
    "_, ax = plt.subplots(figsize=(6, 3))\n",
    "for i in range(len(respb)):\n",
    "    P = Weibull(I_range,*respb[i])\n",
    "    ax.plot(I_range, P, color='gray', alpha=0.2)\n",
    "    \n",
    "ax.plot(I_range,Weibull(I_range,*model_params_est) , lw=3)\n",
    "\n",
    "ax.spines['right'].set_visible(False)\n",
    "ax.spines['top'].set_visible(False)\n",
    "ax.set_xlabel('Intensity I')\n",
    "ax.set_ylabel('Probability Correct [ P(C) ]')\n",
    "ax.set_title('Bootstrapping results')"
   ]
  },
  {
   "cell_type": "code",
   "execution_count": null,
   "metadata": {},
   "outputs": [],
   "source": [
    "# the distribution of the parameters\n",
    "_, ax = plt.subplots(2,2,figsize=(9, 6))\n",
    "sns.histplot(respb[:, 0], stat=\"probability\", element=\"step\", color='k', alpha=0.5, label=r'a', ax=ax[0, 0])\n",
    "ax[0, 0].set_xlabel(r'a')\n",
    "sns.histplot(respb[:, 1], stat=\"probability\", element=\"step\", color='k', alpha=0.5, label=r'b', ax=ax[0, 1])\n",
    "ax[0, 1].set_xlabel(r'b')\n",
    "sns.histplot(respb[:, 2], stat=\"probability\", element=\"step\", color='k', alpha=0.5, label=r'pl', ax=ax[1, 0])\n",
    "ax[1, 0].set_xlabel(r'pl')\n",
    "sns.histplot(respb[:, 3], stat=\"probability\", element=\"step\", color='k', alpha=0.5, label=r'pg', ax=ax[1, 1])\n",
    "ax[1, 1].set_xlabel(r'pg')\n",
    "for each in ax.ravel():\n",
    "    each.spines['right'].set_visible(False)\n",
    "    each.spines['top'].set_visible(False)\n",
    "    each.set_title('Bootstrapping results')\n",
    "    each.legend(fontsize='small', shadow=False, frameon=False)"
   ]
  }
 ],
 "metadata": {
  "kernelspec": {
   "display_name": "Python 3",
   "language": "python",
   "name": "python3"
  },
  "language_info": {
   "codemirror_mode": {
    "name": "ipython",
    "version": 3
   },
   "file_extension": ".py",
   "mimetype": "text/x-python",
   "name": "python",
   "nbconvert_exporter": "python",
   "pygments_lexer": "ipython3",
   "version": "3.9.12"
  },
  "orig_nbformat": 4
 },
 "nbformat": 4,
 "nbformat_minor": 2
}
